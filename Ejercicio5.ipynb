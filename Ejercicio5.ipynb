{
  "nbformat": 4,
  "nbformat_minor": 0,
  "metadata": {
    "colab": {
      "name": "Untitled5.ipynb",
      "provenance": [],
      "authorship_tag": "ABX9TyPB/rINGqizgO99V6bN0+Zx",
      "include_colab_link": true
    },
    "kernelspec": {
      "name": "python3",
      "display_name": "Python 3"
    },
    "language_info": {
      "name": "python"
    }
  },
  "cells": [
    {
      "cell_type": "markdown",
      "metadata": {
        "id": "view-in-github",
        "colab_type": "text"
      },
      "source": [
        "<a href=\"https://colab.research.google.com/github/andres-4916/P2-T2-AID-Ejercicios-Funciones-en-python-/blob/main/Ejercicio5.ipynb\" target=\"_parent\"><img src=\"https://colab.research.google.com/assets/colab-badge.svg\" alt=\"Open In Colab\"/></a>"
      ]
    },
    {
      "cell_type": "code",
      "metadata": {
        "colab": {
          "base_uri": "https://localhost:8080/"
        },
        "id": "LPTsw-IdU0qB",
        "outputId": "828a21ba-d914-4994-e5e2-92eea889ef8d"
      },
      "source": [
        "#Función que calcula los cuadrados de una lista de números.\n",
        "def media_vari_desvi(lista):\n",
        "\n",
        "\n",
        "   #Se hace otra lista de almacemaniento utilizando el ciclo for.\n",
        "    cuadrado = []\n",
        "    for cont in lista:\n",
        "        cuadrado.append(cont**2)\n",
        "    \n",
        "    #Devuelve un diccionario con la media, varianza y desviación típica.\n",
        "    #Se define un diccionario \n",
        "    \n",
        "    devolu = {}\n",
        "    devolu['media'] = (sum(cuadrado)/len(lista))\n",
        "    devolu['varianza'] = (sum(cuadrado)/len(lista)) - devolu['media']**2\n",
        "    devolu['desviacion tipica'] = devolu['varianza']**0.5\n",
        "    return devolu\n",
        "\n",
        "#muestra los resultados\n",
        "\n",
        "print(\"El resultado del diccionario es: \"+ str (media_vari_desvi([4, 5, 8, 7, 99])))\n",
        "print(\"El resultado del diccionario es: \"+ str (media_vari_desvi([22, 13, 30, 18])))"
      ],
      "execution_count": 27,
      "outputs": [
        {
          "output_type": "stream",
          "text": [
            "El resultado del diccionario es: {'media': 1991.0, 'varianza': -3962090.0, 'desviacion tipica': (1.218829688398539e-13+1990.499937201707j)}\n",
            "El resultado del diccionario es: {'media': 469.25, 'varianza': -219726.3125, 'desviacion tipica': (2.870264302638746e-14+468.7497333332575j)}\n"
          ],
          "name": "stdout"
        }
      ]
    }
  ]
}