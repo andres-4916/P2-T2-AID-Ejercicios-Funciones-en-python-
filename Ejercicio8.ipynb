{
  "nbformat": 4,
  "nbformat_minor": 0,
  "metadata": {
    "colab": {
      "name": "Untitled8.ipynb",
      "provenance": [],
      "authorship_tag": "ABX9TyMYfit5rG1cO7U9gn4Ov6xc",
      "include_colab_link": true
    },
    "kernelspec": {
      "name": "python3",
      "display_name": "Python 3"
    },
    "language_info": {
      "name": "python"
    }
  },
  "cells": [
    {
      "cell_type": "markdown",
      "metadata": {
        "id": "view-in-github",
        "colab_type": "text"
      },
      "source": [
        "<a href=\"https://colab.research.google.com/github/andres-4916/P2-T2-AID-Ejercicios-Funciones-en-python-/blob/main/Ejercicio8.ipynb\" target=\"_parent\"><img src=\"https://colab.research.google.com/assets/colab-badge.svg\" alt=\"Open In Colab\"/></a>"
      ]
    },
    {
      "cell_type": "code",
      "metadata": {
        "colab": {
          "base_uri": "https://localhost:8080/"
        },
        "id": "S4Oj6H9CorJp",
        "outputId": "274e9606-2333-44cf-bcfd-3ab85e6d8a36"
      },
      "source": [
        "#Función que cuenta el número palabras.\n",
        "def palabras(text):\n",
        "   \n",
        "    \n",
        "    # se define un diccionario contardor de palabras.\n",
        "    \n",
        "    text = text.split()\n",
        "    palab = {}\n",
        "    for cont in text:\n",
        "        if cont in palab:\n",
        "            palab[cont] += 1\n",
        "        else:\n",
        "            palab[cont] = 1\n",
        "    return palab\n",
        "#Se define la función que almacena la palabra mas frecuente.\n",
        "def repetidas(palabra):\n",
        "    max_palab = ''\n",
        "    max_freq = 0\n",
        "    for palab, freq in palabra.items():\n",
        "        if freq > max_freq:\n",
        "            max_palab = palab\n",
        "            max_freq = freq\n",
        "    return max_palab, max_freq\n",
        "#se adjunta el texto que quieras contar.\n",
        "text = 'Acercándose el peligro viene ya Y para llorar no es el tiempo ahora'\n",
        "#se muestran cuantas palabras hay repetidas.\n",
        "print(palabras(text))\n",
        "print(repetidas(palabras(text)))"
      ],
      "execution_count": 3,
      "outputs": [
        {
          "output_type": "stream",
          "text": [
            "{'Acercándose': 1, 'el': 2, 'peligro': 1, 'viene': 1, 'ya': 1, 'Y': 1, 'para': 1, 'llorar': 1, 'no': 1, 'es': 1, 'tiempo': 1, 'ahora': 1}\n",
            "('el', 2)\n"
          ],
          "name": "stdout"
        }
      ]
    }
  ]
}