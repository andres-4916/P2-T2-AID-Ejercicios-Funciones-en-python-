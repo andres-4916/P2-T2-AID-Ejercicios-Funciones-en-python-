{
  "nbformat": 4,
  "nbformat_minor": 0,
  "metadata": {
    "colab": {
      "name": "Untitled4.ipynb",
      "provenance": [],
      "authorship_tag": "ABX9TyOgZcKrBdUYbCMPDQdVgp4p",
      "include_colab_link": true
    },
    "kernelspec": {
      "name": "python3",
      "display_name": "Python 3"
    },
    "language_info": {
      "name": "python"
    }
  },
  "cells": [
    {
      "cell_type": "markdown",
      "metadata": {
        "id": "view-in-github",
        "colab_type": "text"
      },
      "source": [
        "<a href=\"https://colab.research.google.com/github/andres-4916/P2-T2-AID-Ejercicios-Funciones-en-python-/blob/main/Ejercicio4.ipynb\" target=\"_parent\"><img src=\"https://colab.research.google.com/assets/colab-badge.svg\" alt=\"Open In Colab\"/></a>"
      ]
    },
    {
      "cell_type": "code",
      "metadata": {
        "colab": {
          "base_uri": "https://localhost:8080/"
        },
        "id": "DIZzEb4fM6YL",
        "outputId": "40c80099-2b1b-4996-e466-42c695870dbd"
      },
      "source": [
        "#Función que calcula el cuadrado.\n",
        "def cuadrado(lista1):\n",
        "    \n",
        "    #Se hace otra lista de almacemaniento utilizando el ciclo for.\n",
        "\n",
        "    lista2 = []\n",
        "    for cont in lista1:\n",
        "        lista2.append(cont**2)\n",
        "    return lista2\n",
        "\n",
        "#Se muestra el resultado de el cuadrado.\n",
        "print(\"El cuadrado es: \"+ str (cuadrado([40, 5, 88, 7, 99, 55, 2])))\n",
        "print(\"El cuadrado es: \"+ str (cuadrado([6, 9, 22, 13, 30, 18])))"
      ],
      "execution_count": 4,
      "outputs": [
        {
          "output_type": "stream",
          "text": [
            "El cuadrado es: [1600, 25, 7744, 49, 9801, 3025, 4]\n",
            "El cuadrado es: [36, 81, 484, 169, 900, 324]\n"
          ],
          "name": "stdout"
        }
      ]
    }
  ]
}