{
  "nbformat": 4,
  "nbformat_minor": 0,
  "metadata": {
    "colab": {
      "name": "Untitled3.ipynb",
      "provenance": [],
      "authorship_tag": "ABX9TyMasYevVHp/uUAsTkMd6wcr",
      "include_colab_link": true
    },
    "kernelspec": {
      "name": "python3",
      "display_name": "Python 3"
    },
    "language_info": {
      "name": "python"
    }
  },
  "cells": [
    {
      "cell_type": "markdown",
      "metadata": {
        "id": "view-in-github",
        "colab_type": "text"
      },
      "source": [
        "<a href=\"https://colab.research.google.com/github/andres-4916/P2-T2-AID-Ejercicios-Funciones-en-python-/blob/main/Ejercicio3.ipynb\" target=\"_parent\"><img src=\"https://colab.research.google.com/assets/colab-badge.svg\" alt=\"Open In Colab\"/></a>"
      ]
    },
    {
      "cell_type": "code",
      "metadata": {
        "colab": {
          "base_uri": "https://localhost:8080/"
        },
        "id": "CxG0V8EdJEH6",
        "outputId": "85c9d389-6d50-4323-a9b3-bd44d0ca53c3"
      },
      "source": [
        "#Función que calcula la media.\n",
        "def media(lista):\n",
        "   \n",
        "    #Funcion que saca la media de la lista de numeros. \n",
        "   \n",
        "    resul = sum(lista)/len(lista)\n",
        "    return resul\n",
        "#se muestra el resutado de la media.\n",
        "print(\"La media es: \"+str (media([55, 2, 47, 8, 90, 16])))\n",
        "print(\"La media es: \" + str (media([10, 4, 70, 6, 20, 3, 15])))"
      ],
      "execution_count": 6,
      "outputs": [
        {
          "output_type": "stream",
          "text": [
            "La media es: 36.333333333333336\n",
            "La media es: 18.285714285714285\n"
          ],
          "name": "stdout"
        }
      ]
    }
  ]
}