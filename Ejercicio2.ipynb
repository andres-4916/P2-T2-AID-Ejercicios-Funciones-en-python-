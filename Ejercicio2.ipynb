{
  "nbformat": 4,
  "nbformat_minor": 0,
  "metadata": {
    "colab": {
      "name": "Untitled2.ipynb",
      "provenance": [],
      "authorship_tag": "ABX9TyMtdGcclGxlUgrr6Vs4pV5W",
      "include_colab_link": true
    },
    "kernelspec": {
      "name": "python3",
      "display_name": "Python 3"
    },
    "language_info": {
      "name": "python"
    }
  },
  "cells": [
    {
      "cell_type": "markdown",
      "metadata": {
        "id": "view-in-github",
        "colab_type": "text"
      },
      "source": [
        "<a href=\"https://colab.research.google.com/github/andres-4916/P2-T2-AID-Ejercicios-Funciones-en-python-/blob/main/Ejercicio2.ipynb\" target=\"_parent\"><img src=\"https://colab.research.google.com/assets/colab-badge.svg\" alt=\"Open In Colab\"/></a>"
      ]
    },
    {
      "cell_type": "code",
      "metadata": {
        "colab": {
          "base_uri": "https://localhost:8080/"
        },
        "id": "Ufr-shzXFprQ",
        "outputId": "774d8568-e431-44e4-aa91-431118044fd0"
      },
      "source": [
        " #Función que calcula el area de un círculo.\n",
        "def areacirculo(radio):\n",
        "\n",
        " #Devuelve el área del círculo de radio radius. \n",
        "   \n",
        "    pi = 3.1415\n",
        "    return pi*radio**2\n",
        "\n",
        " #Función que calcula el volumen de un cilindro.\n",
        "    \n",
        "def volumencilindro(radio, altura):\n",
        "   \n",
        "#Devuelve el volumen del clindro de radio radius y altura high.\n",
        "     return areacirculo(radio)*altura\n",
        "     #Muestra los resultados \n",
        "print(\"El área de un círculo es: \" + str (areacirculo(5)))\n",
        "print(\"El volumen del cilindro es: \" + str (volumencilindro(3,5)))"
      ],
      "execution_count": 6,
      "outputs": [
        {
          "output_type": "stream",
          "text": [
            "El área de un círculo es: 78.53750000000001\n",
            "El volumen del cilindro es: 141.3675\n"
          ],
          "name": "stdout"
        }
      ]
    }
  ]
}