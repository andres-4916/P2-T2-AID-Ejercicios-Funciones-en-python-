{
  "nbformat": 4,
  "nbformat_minor": 0,
  "metadata": {
    "colab": {
      "name": "Untitled6.ipynb",
      "provenance": [],
      "authorship_tag": "ABX9TyMPY17V24xHjkbwQhvSwN7m",
      "include_colab_link": true
    },
    "kernelspec": {
      "name": "python3",
      "display_name": "Python 3"
    },
    "language_info": {
      "name": "python"
    }
  },
  "cells": [
    {
      "cell_type": "markdown",
      "metadata": {
        "id": "view-in-github",
        "colab_type": "text"
      },
      "source": [
        "<a href=\"https://colab.research.google.com/github/andres-4916/P2-T2-AID-Ejercicios-Funciones-en-python-/blob/main/Ejercicio6.ipynb\" target=\"_parent\"><img src=\"https://colab.research.google.com/assets/colab-badge.svg\" alt=\"Open In Colab\"/></a>"
      ]
    },
    {
      "cell_type": "code",
      "metadata": {
        "colab": {
          "base_uri": "https://localhost:8080/"
        },
        "id": "ABYoOr5hbNoK",
        "outputId": "aa8973e4-0607-44ca-ccc5-3f31760a1d08"
      },
      "source": [
        "# Define los numeros\n",
        "v1 = 455\n",
        "v2 = 222\n",
        "\n",
        "# Se define la función que calcule el maximo comun divisor\n",
        "def mcd(n1,n2):\n",
        "  while n2 != 0:\n",
        "      t = n2\n",
        "      n2 = n1 % n2\n",
        "      n1 = t\n",
        "      resul = n1\n",
        "  return resul\n",
        "\n",
        "# Se define la función que calcule el minimo comun multiplo\n",
        "def mcm(n1, n2):\n",
        "    resul = (n1 * n2) / mcd(n1, n2)\n",
        "    return resul\n",
        "\n",
        "# Se muestran los resultados\n",
        "print(\"El maximo comun divisor es: \",mcd(v1,v2))\n",
        "print(\"El minimo comun multiplo es: \",mcm(v1,v2))"
      ],
      "execution_count": 1,
      "outputs": [
        {
          "output_type": "stream",
          "text": [
            "El maximo comun divisor es:  1\n",
            "El minimo comun multiplo es:  101010.0\n"
          ],
          "name": "stdout"
        }
      ]
    }
  ]
}