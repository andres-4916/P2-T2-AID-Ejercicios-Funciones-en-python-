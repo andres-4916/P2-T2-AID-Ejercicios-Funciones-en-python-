{
  "nbformat": 4,
  "nbformat_minor": 0,
  "metadata": {
    "colab": {
      "name": "Untitled7.ipynb",
      "provenance": [],
      "authorship_tag": "ABX9TyNCL0vRtTDLpYWa55NIHkkr",
      "include_colab_link": true
    },
    "kernelspec": {
      "name": "python3",
      "display_name": "Python 3"
    },
    "language_info": {
      "name": "python"
    }
  },
  "cells": [
    {
      "cell_type": "markdown",
      "metadata": {
        "id": "view-in-github",
        "colab_type": "text"
      },
      "source": [
        "<a href=\"https://colab.research.google.com/github/andres-4916/P2-T2-AID-Ejercicios-Funciones-en-python-/blob/main/Ejercicio7.ipynb\" target=\"_parent\"><img src=\"https://colab.research.google.com/assets/colab-badge.svg\" alt=\"Open In Colab\"/></a>"
      ]
    },
    {
      "cell_type": "code",
      "metadata": {
        "colab": {
          "base_uri": "https://localhost:8080/"
        },
        "id": "Shvm6KAYk0f9",
        "outputId": "a35f6fff-d9cb-489a-f45d-68125de68df2"
      },
      "source": [
        "# Se define como variable un numero decimal y un numero binario\n",
        "Ndecimal = 55\n",
        "Nbinario = 101011\n",
        "\n",
        "# Se define función que convierte decimal a binario\n",
        "def decabin(decimal):\n",
        "  # Se define un acumulador y se realiza la conversión\n",
        "  temp = \"\"\n",
        "  while decimal != 0:\n",
        "    temp = str(decimal % 2) + temp\n",
        "    \n",
        "    decimal = decimal // 2\n",
        "  return temp\n",
        "\n",
        "# Se define función que convierte binario a decimal y Se define un contador y dos acumuladores\n",
        "def binadec(binario):\n",
        "  cont = 0\n",
        "  temp = 0\n",
        "  bintemp = \"\"\n",
        "\n",
        "  # Se define un ciclo FOR que invertira el numero binario\n",
        "  for carac in str(binario):\n",
        "    bintemp =  carac + bintemp\n",
        "\n",
        "  # Se define un ciclo FOR que tomara cada carecter del \"bintemp\"\n",
        "  for carac in str(bintemp):\n",
        "    if carac == \"1\":\n",
        "      temp = temp + (2**cont)\n",
        "    cont = cont + 1\n",
        "  \n",
        "  return temp\n",
        "\n",
        "# Se muestra el resultado de la conversión de decimal a binario\n",
        "print(\"El resultado de decimal a binario es: \", decabin(Ndecimal))\n",
        "# Se muestra el resultado de la conversión de binario a decimal\n",
        "print(\"El resultado de binario a decimal es: \", binadec(Nbinario))"
      ],
      "execution_count": 4,
      "outputs": [
        {
          "output_type": "stream",
          "text": [
            "El resultado de decimal a binario es:  110111\n",
            "El resultado de binario a decimal es:  43\n"
          ],
          "name": "stdout"
        }
      ]
    }
  ]
}