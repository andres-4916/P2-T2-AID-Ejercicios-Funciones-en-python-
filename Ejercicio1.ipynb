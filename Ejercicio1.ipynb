{
  "nbformat": 4,
  "nbformat_minor": 0,
  "metadata": {
    "colab": {
      "name": "Untitled1.ipynb",
      "provenance": [],
      "authorship_tag": "ABX9TyOg5/Ja644fBx9ZLFfEchf1",
      "include_colab_link": true
    },
    "kernelspec": {
      "name": "python3",
      "display_name": "Python 3"
    },
    "language_info": {
      "name": "python"
    }
  },
  "cells": [
    {
      "cell_type": "markdown",
      "metadata": {
        "id": "view-in-github",
        "colab_type": "text"
      },
      "source": [
        "<a href=\"https://colab.research.google.com/github/andres-4916/P2-T2-AID-Ejercicios-Funciones-en-python-/blob/main/Ejercicio1.ipynb\" target=\"_parent\"><img src=\"https://colab.research.google.com/assets/colab-badge.svg\" alt=\"Open In Colab\"/></a>"
      ]
    },
    {
      "cell_type": "code",
      "metadata": {
        "colab": {
          "base_uri": "https://localhost:8080/"
        },
        "id": "xTOwqdq87cg1",
        "outputId": "daa3c6d4-52ec-4d16-9fa9-2a84d78cd3e4"
      },
      "source": [
        "#Aplicacion del iva en la factura.\n",
        "def iva(cantidad, porcen=21):\n",
        "   # Resultado total de la factura \n",
        "     resul = cantidad + (cantidad*(porcen/100))\n",
        "     return resul\n",
        "\n",
        "#Se muestra el resultado con iva\n",
        "print(\"La factura con iva es: \"+str(iva(2000,20)))\n",
        "#Se muestra el resultado sin iva\n",
        "print(\"La factura sin iva es: \" + str(iva(2000)))"
      ],
      "execution_count": 11,
      "outputs": [
        {
          "output_type": "stream",
          "text": [
            "La factura con iva es: 2400.0\n",
            "La factura sin iva es: 2420.0\n"
          ],
          "name": "stdout"
        }
      ]
    }
  ]
}